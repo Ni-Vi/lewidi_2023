{
 "cells": [
  {
   "cell_type": "code",
   "execution_count": 1,
   "metadata": {},
   "outputs": [],
   "source": [
    "from classifier_lewidi import *\n",
    "from params_lewidi import *\n",
    "from DataManager import *\n",
    "\n",
    "import os\n",
    "import argparse\n",
    "import importlib\n",
    "from datetime import datetime\n",
    "import pytz\n",
    "import re\n"
   ]
  },
  {
   "cell_type": "code",
   "execution_count": 2,
   "metadata": {},
   "outputs": [],
   "source": [
    "\n",
    "\n",
    "filepath1 = '../data/ConvAbuse_dataset/'\n",
    "filepath2 = '../data/ArMIS_dataset/'\n",
    "filepath3 = '../data/HS-Brexit_dataset/'\n",
    "filepath4 = '../data/MD-Agreement_dataset/'\n",
    "\n",
    "\n"
   ]
  },
  {
   "cell_type": "code",
   "execution_count": 3,
   "metadata": {},
   "outputs": [
    {
     "name": "stdout",
     "output_type": "stream",
     "text": [
      "I'm in with the conv_train dataset\n",
      "I'm in with the conv_dev dataset\n",
      "I'm in with the ar_train dataset\n",
      "I'm in with the ar_dev dataset\n",
      "I'm in with the br_train dataset\n",
      "I'm in with the br_dev dataset\n",
      "I'm in with the md_train dataset\n",
      "I'm in with the md_dev dataset\n"
     ]
    }
   ],
   "source": [
    "\n",
    "data = DataManager(filepath1, filepath2, filepath3, filepath4)"
   ]
  },
  {
   "cell_type": "code",
   "execution_count": 4,
   "metadata": {},
   "outputs": [],
   "source": [
    "def_params = params_lewidi()\n",
    "\n",
    "def_params.task = \"multi_task\""
   ]
  },
  {
   "cell_type": "code",
   "execution_count": 5,
   "metadata": {},
   "outputs": [
    {
     "name": "stdout",
     "output_type": "stream",
     "text": [
      "I'm multi and here's the task labels: ['Ann1', 'Ann2', 'Ann3', 'Ann4', 'Ann5', 'Ann6', 'Ann7', 'Ann8'] True\n",
      "431\n",
      "Data shape after majority voting (2398, 16)\n",
      "[('batch_size', 4), ('learning_rate', 1e-07), ('max_len', 128), ('num_epochs', 3), ('random_state', 9999), ('num_folds', 5), ('task', 'multi_task'), ('batch_weight', None), ('sort_by', None), ('stratified', True), ('predict', 'label'), ('mc_passes', 10)]\n"
     ]
    }
   ],
   "source": [
    "\n",
    "%reload_ext autoreload\n",
    "%autoreload 2\n",
    "\n",
    "key = \"conv_train\"\n",
    "\n",
    "annotators = list(sorted(set(itertools.chain.from_iterable(data.dataset_groups[key]['annotators'].str.findall(\"\\w+\")))))\n",
    "    \n",
    "model = ToxicityClassifier(data.dataset_groups[key], annotators=annotators, params=def_params)\n",
    "\n"
   ]
  },
  {
   "cell_type": "code",
   "execution_count": 15,
   "metadata": {},
   "outputs": [
    {
     "name": "stderr",
     "output_type": "stream",
     "text": [
      "/home/nv2006/anaconda3/envs/lewidi/lib/python3.10/site-packages/sklearn/model_selection/_split.py:684: UserWarning: The least populated class in y has only 1 members, which is less than n_splits=5.\n",
      "  warnings.warn(\n"
     ]
    },
    {
     "name": "stdout",
     "output_type": "stream",
     "text": [
      "Fold # 1\n"
     ]
    },
    {
     "name": "stderr",
     "output_type": "stream",
     "text": [
      "Some weights of the model checkpoint at bert-base-uncased were not used when initializing BertModel: ['cls.predictions.transform.dense.bias', 'cls.seq_relationship.bias', 'cls.predictions.transform.dense.weight', 'cls.predictions.bias', 'cls.predictions.transform.LayerNorm.weight', 'cls.seq_relationship.weight', 'cls.predictions.transform.LayerNorm.bias', 'cls.predictions.decoder.weight']\n",
      "- This IS expected if you are initializing BertModel from the checkpoint of a model trained on another task or with another architecture (e.g. initializing a BertForSequenceClassification model from a BertForPreTraining model).\n",
      "- This IS NOT expected if you are initializing BertModel from the checkpoint of a model that you expect to be exactly identical (initializing a BertForSequenceClassification model from a BertForSequenceClassification model).\n",
      "/home/nv2006/anaconda3/envs/lewidi/lib/python3.10/site-packages/transformers/optimization.py:306: FutureWarning: This implementation of AdamW is deprecated and will be removed in a future version. Use the PyTorch implementation torch.optim.AdamW instead, or set `no_deprecation_warning=True` to disable this warning\n",
      "  warnings.warn(\n"
     ]
    },
    {
     "name": "stdout",
     "output_type": "stream",
     "text": [
      "Epoch 0 - Loss 1854.302\n",
      "Validation:\n",
      "['Ann1', 'Ann2', 'Ann3', 'Ann4', 'Ann5', 'Ann6', 'Ann7', 'Ann8']\n",
      "     Ann1_masked_pred  Ann1_masked_label  Ann1_pred  Ann1_label  \\\n",
      "0                 NaN                NaN          0         NaN   \n",
      "1                 NaN                NaN          0         NaN   \n",
      "2                 NaN                NaN          0         NaN   \n",
      "3                 NaN                NaN          0         NaN   \n",
      "4                 NaN                NaN          0         NaN   \n",
      "..                ...                ...        ...         ...   \n",
      "187               NaN                NaN          0         NaN   \n",
      "188               NaN                NaN          0         NaN   \n",
      "189               NaN                NaN          0         NaN   \n",
      "190               NaN                NaN          0         0.0   \n",
      "191               NaN                NaN          0         NaN   \n",
      "\n",
      "     Ann2_masked_pred  Ann2_masked_label  Ann2_pred  Ann2_label  \\\n",
      "0                 NaN                NaN          0         NaN   \n",
      "1                 NaN                NaN          0         0.0   \n",
      "2                 NaN                NaN          0         NaN   \n",
      "3                 NaN                NaN          0         0.0   \n",
      "4                 NaN                NaN          0         NaN   \n",
      "..                ...                ...        ...         ...   \n",
      "187               NaN                NaN          0         0.0   \n",
      "188               0.0                0.0          0         0.0   \n",
      "189               0.0                NaN          0         NaN   \n",
      "190               0.0                NaN          0         NaN   \n",
      "191               0.0                NaN          0         NaN   \n",
      "\n",
      "     Ann3_masked_pred  Ann3_masked_label  ...  Ann6_pred  Ann6_label  \\\n",
      "0                 NaN                NaN  ...          0         NaN   \n",
      "1                 NaN                NaN  ...          0         NaN   \n",
      "2                 NaN                NaN  ...          0         NaN   \n",
      "3                 NaN                NaN  ...          0         NaN   \n",
      "4                 0.0                0.0  ...          0         NaN   \n",
      "..                ...                ...  ...        ...         ...   \n",
      "187               NaN                NaN  ...          0         NaN   \n",
      "188               0.0                0.0  ...          0         0.0   \n",
      "189               0.0                0.0  ...          0         NaN   \n",
      "190               0.0                NaN  ...          0         0.0   \n",
      "191               0.0                NaN  ...          0         0.0   \n",
      "\n",
      "     Ann7_masked_pred  Ann7_masked_label  Ann7_pred  Ann7_label  \\\n",
      "0                 0.0                0.0          0         0.0   \n",
      "1                 0.0                NaN          0         NaN   \n",
      "2                 0.0                0.0          0         0.0   \n",
      "3                 0.0                0.0          0         0.0   \n",
      "4                 NaN                NaN          0         NaN   \n",
      "..                ...                ...        ...         ...   \n",
      "187               NaN                NaN          0         0.0   \n",
      "188               NaN                NaN          0         NaN   \n",
      "189               NaN                NaN          0         NaN   \n",
      "190               NaN                NaN          0         0.0   \n",
      "191               NaN                NaN          0         NaN   \n",
      "\n",
      "     Ann8_masked_pred  Ann8_masked_label  Ann8_pred  Ann8_label  \n",
      "0                 0.0                0.0          0         0.0  \n",
      "1                 0.0                0.0          0         0.0  \n",
      "2                 0.0                0.0          0         0.0  \n",
      "3                 0.0                0.0          0         0.0  \n",
      "4                 0.0                0.0          0         0.0  \n",
      "..                ...                ...        ...         ...  \n",
      "187               0.0                NaN          0         NaN  \n",
      "188               NaN                NaN          0         NaN  \n",
      "189               NaN                NaN          0         0.0  \n",
      "190               NaN                NaN          0         0.0  \n",
      "191               NaN                NaN          0         NaN  \n",
      "\n",
      "[192 rows x 32 columns]\n",
      "0      False\n",
      "1      False\n",
      "2      False\n",
      "3      False\n",
      "4      False\n",
      "       ...  \n",
      "187    False\n",
      "188    False\n",
      "189    False\n",
      "190    False\n",
      "191    False\n",
      "Length: 192, dtype: bool\n",
      "0      False\n",
      "1      False\n",
      "2      False\n",
      "3      False\n",
      "4      False\n",
      "       ...  \n",
      "187    False\n",
      "188    False\n",
      "189    False\n",
      "190    False\n",
      "191    False\n",
      "Length: 192, dtype: bool\n",
      "Accuracy of the majority vote (after masking):\n",
      "{'A': 0.8594, 'P': 0.0, 'R': 0.0, 'F1': 0}\n",
      "Accuracy of the majority vote (using all annotator heads):\n",
      "{'A': 0.8073, 'P': 0.0, 'R': 0.0, 'F1': 0}\n"
     ]
    },
    {
     "ename": "KeyboardInterrupt",
     "evalue": "",
     "output_type": "error",
     "traceback": [
      "\u001b[0;31m---------------------------------------------------------------------------\u001b[0m",
      "\u001b[0;31mKeyboardInterrupt\u001b[0m                         Traceback (most recent call last)",
      "Cell \u001b[0;32mIn [15], line 5\u001b[0m\n\u001b[1;32m      1\u001b[0m get_ipython()\u001b[39m.\u001b[39mrun_line_magic(\u001b[39m'\u001b[39m\u001b[39mreload_ext\u001b[39m\u001b[39m'\u001b[39m, \u001b[39m'\u001b[39m\u001b[39mautoreload\u001b[39m\u001b[39m'\u001b[39m)\n\u001b[1;32m      2\u001b[0m get_ipython()\u001b[39m.\u001b[39mrun_line_magic(\u001b[39m'\u001b[39m\u001b[39mautoreload\u001b[39m\u001b[39m'\u001b[39m, \u001b[39m'\u001b[39m\u001b[39m2\u001b[39m\u001b[39m'\u001b[39m)\n\u001b[0;32m----> 5\u001b[0m score, results \u001b[39m=\u001b[39m model\u001b[39m.\u001b[39;49mCV()\n\u001b[1;32m      7\u001b[0m score[\u001b[39m\"\u001b[39m\u001b[39mparams\u001b[39m\u001b[39m\"\u001b[39m] \u001b[39m=\u001b[39m \u001b[39m\"\u001b[39m\u001b[39m, \u001b[39m\u001b[39m\"\u001b[39m\u001b[39m.\u001b[39mjoin(key \u001b[39m+\u001b[39m \u001b[39m\"\u001b[39m\u001b[39m: \u001b[39m\u001b[39m\"\u001b[39m \u001b[39m+\u001b[39m \u001b[39mstr\u001b[39m(val) \u001b[39mfor\u001b[39;00m key, val \u001b[39min\u001b[39;00m def_params\u001b[39m.\u001b[39m\u001b[39m__dict__\u001b[39m\u001b[39m.\u001b[39mitems())\n\u001b[1;32m      8\u001b[0m score[\u001b[39m\"\u001b[39m\u001b[39mtask\u001b[39m\u001b[39m\"\u001b[39m] \u001b[39m=\u001b[39m model\u001b[39m.\u001b[39mparams\u001b[39m.\u001b[39mtask\n",
      "File \u001b[0;32m~/lewidi_2023/code/classifier_lewidi.py:119\u001b[0m, in \u001b[0;36mToxicityClassifier.CV\u001b[0;34m(self)\u001b[0m\n\u001b[1;32m    117\u001b[0m     \u001b[39mreturn\u001b[39;00m scores, ensemble_results\n\u001b[1;32m    118\u001b[0m \u001b[39melse\u001b[39;00m:\n\u001b[0;32m--> 119\u001b[0m     \u001b[39mreturn\u001b[39;00m \u001b[39mself\u001b[39;49m\u001b[39m.\u001b[39;49m_CV(\u001b[39mself\u001b[39;49m\u001b[39m.\u001b[39;49mdata)\n",
      "File \u001b[0;32m~/lewidi_2023/code/classifier_lewidi.py:153\u001b[0m, in \u001b[0;36mToxicityClassifier._CV\u001b[0;34m(self, data)\u001b[0m\n\u001b[1;32m    150\u001b[0m train_batches \u001b[39m=\u001b[39m \u001b[39mself\u001b[39m\u001b[39m.\u001b[39mget_batches(train)\n\u001b[1;32m    151\u001b[0m test_batches \u001b[39m=\u001b[39m \u001b[39mself\u001b[39m\u001b[39m.\u001b[39mget_batches(test)\n\u001b[0;32m--> 153\u001b[0m \u001b[39mself\u001b[39;49m\u001b[39m.\u001b[39;49mtrain_model(train_batches)\n\u001b[1;32m    154\u001b[0m \u001b[39mif\u001b[39;00m \u001b[39mself\u001b[39m\u001b[39m.\u001b[39mparams\u001b[39m.\u001b[39mpredict \u001b[39m==\u001b[39m \u001b[39m\"\u001b[39m\u001b[39mlabel\u001b[39m\u001b[39m\"\u001b[39m:\n\u001b[1;32m    155\u001b[0m     \u001b[39m# testing on the validation set\u001b[39;00m\n\u001b[1;32m    156\u001b[0m     fold_result \u001b[39m=\u001b[39m \u001b[39mself\u001b[39m\u001b[39m.\u001b[39mpredict(test_batches)\n",
      "File \u001b[0;32m~/lewidi_2023/code/classifier_lewidi.py:263\u001b[0m, in \u001b[0;36mToxicityClassifier.train_model\u001b[0;34m(self, batches)\u001b[0m\n\u001b[1;32m    261\u001b[0m     loss_val \u001b[39m+\u001b[39m\u001b[39m=\u001b[39m total_loss\u001b[39m.\u001b[39mitem()\n\u001b[1;32m    262\u001b[0m     total_loss\u001b[39m.\u001b[39mbackward()\n\u001b[0;32m--> 263\u001b[0m     \u001b[39mself\u001b[39;49m\u001b[39m.\u001b[39;49moptimizer\u001b[39m.\u001b[39;49mstep()\n\u001b[1;32m    265\u001b[0m \u001b[39mprint\u001b[39m(\u001b[39m\"\u001b[39m\u001b[39mEpoch\u001b[39m\u001b[39m\"\u001b[39m, epoch, \u001b[39m\"\u001b[39m\u001b[39m-\u001b[39m\u001b[39m\"\u001b[39m, \u001b[39m\"\u001b[39m\u001b[39mLoss\u001b[39m\u001b[39m\"\u001b[39m, \u001b[39mround\u001b[39m(loss_val, \u001b[39m3\u001b[39m))\n\u001b[1;32m    266\u001b[0m \u001b[39mif\u001b[39;00m val_batches:\n",
      "File \u001b[0;32m~/anaconda3/envs/lewidi/lib/python3.10/site-packages/torch/optim/optimizer.py:140\u001b[0m, in \u001b[0;36mOptimizer._hook_for_profile.<locals>.profile_hook_step.<locals>.wrapper\u001b[0;34m(*args, **kwargs)\u001b[0m\n\u001b[1;32m    138\u001b[0m profile_name \u001b[39m=\u001b[39m \u001b[39m\"\u001b[39m\u001b[39mOptimizer.step#\u001b[39m\u001b[39m{}\u001b[39;00m\u001b[39m.step\u001b[39m\u001b[39m\"\u001b[39m\u001b[39m.\u001b[39mformat(obj\u001b[39m.\u001b[39m\u001b[39m__class__\u001b[39m\u001b[39m.\u001b[39m\u001b[39m__name__\u001b[39m)\n\u001b[1;32m    139\u001b[0m \u001b[39mwith\u001b[39;00m torch\u001b[39m.\u001b[39mautograd\u001b[39m.\u001b[39mprofiler\u001b[39m.\u001b[39mrecord_function(profile_name):\n\u001b[0;32m--> 140\u001b[0m     out \u001b[39m=\u001b[39m func(\u001b[39m*\u001b[39;49margs, \u001b[39m*\u001b[39;49m\u001b[39m*\u001b[39;49mkwargs)\n\u001b[1;32m    141\u001b[0m     obj\u001b[39m.\u001b[39m_optimizer_step_code()\n\u001b[1;32m    142\u001b[0m     \u001b[39mreturn\u001b[39;00m out\n",
      "File \u001b[0;32m~/anaconda3/envs/lewidi/lib/python3.10/site-packages/transformers/optimization.py:370\u001b[0m, in \u001b[0;36mAdamW.step\u001b[0;34m(self, closure)\u001b[0m\n\u001b[1;32m    367\u001b[0m     bias_correction2 \u001b[39m=\u001b[39m \u001b[39m1.0\u001b[39m \u001b[39m-\u001b[39m beta2 \u001b[39m*\u001b[39m\u001b[39m*\u001b[39m state[\u001b[39m\"\u001b[39m\u001b[39mstep\u001b[39m\u001b[39m\"\u001b[39m]\n\u001b[1;32m    368\u001b[0m     step_size \u001b[39m=\u001b[39m step_size \u001b[39m*\u001b[39m math\u001b[39m.\u001b[39msqrt(bias_correction2) \u001b[39m/\u001b[39m bias_correction1\n\u001b[0;32m--> 370\u001b[0m p\u001b[39m.\u001b[39;49mdata\u001b[39m.\u001b[39;49maddcdiv_(exp_avg, denom, value\u001b[39m=\u001b[39;49m\u001b[39m-\u001b[39;49mstep_size)\n\u001b[1;32m    372\u001b[0m \u001b[39m# Just adding the square of the weights to the loss function is *not*\u001b[39;00m\n\u001b[1;32m    373\u001b[0m \u001b[39m# the correct way of using L2 regularization/weight decay with Adam,\u001b[39;00m\n\u001b[1;32m    374\u001b[0m \u001b[39m# since that will interact with the m and v parameters in strange ways.\u001b[39;00m\n\u001b[0;32m   (...)\u001b[0m\n\u001b[1;32m    378\u001b[0m \u001b[39m# of the weights to the loss with plain (non-momentum) SGD.\u001b[39;00m\n\u001b[1;32m    379\u001b[0m \u001b[39m# Add weight decay at the end (fixed version)\u001b[39;00m\n\u001b[1;32m    380\u001b[0m \u001b[39mif\u001b[39;00m group[\u001b[39m\"\u001b[39m\u001b[39mweight_decay\u001b[39m\u001b[39m\"\u001b[39m] \u001b[39m>\u001b[39m \u001b[39m0.0\u001b[39m:\n",
      "\u001b[0;31mKeyboardInterrupt\u001b[0m: "
     ]
    }
   ],
   "source": [
    "%reload_ext autoreload\n",
    "%autoreload 2\n",
    "\n",
    "\n",
    "score, results = model.CV()\n",
    "\n",
    "score[\"params\"] = \", \".join(key + \": \" + str(val) for key, val in def_params.__dict__.items())\n",
    "score[\"task\"] = model.params.task\n"
   ]
  },
  {
   "cell_type": "code",
   "execution_count": null,
   "metadata": {},
   "outputs": [],
   "source": [
    "\n",
    "# pacific = pytz.timezone('US/Pacific')\n",
    "# sa_time = datetime.now(pacific)\n",
    "# name_time = sa_time.strftime('%m%d%y-%H:%M')\n",
    "# score[\"time\"] = name_time\n",
    "# print(score)\n",
    "\n",
    "# score_dir = os.path.join(def_params.source_dir, \"results\", \"GHC\", \"classification.csv\")\n",
    "# result_dir = os.path.join(def_params.source_dir, \"results\", \"GHC\", name_time + \"_\" + def_params.task + \".csv\")\n",
    "# if os.path.exists(score_dir):\n",
    "#     pd.DataFrame.from_records([score]).to_csv(score_dir, header=False,  index=False, mode=\"a\")\n",
    "# else:\n",
    "#     pd.DataFrame.from_records([score]).to_csv(score_dir, index=False)\n",
    "\n",
    "#     pd.DataFrame.from_dict(results).to_csv(result_dir, index=False)\n"
   ]
  }
 ],
 "metadata": {
  "kernelspec": {
   "display_name": "Python 3.10.8 ('lewidi')",
   "language": "python",
   "name": "python3"
  },
  "language_info": {
   "codemirror_mode": {
    "name": "ipython",
    "version": 3
   },
   "file_extension": ".py",
   "mimetype": "text/x-python",
   "name": "python",
   "nbconvert_exporter": "python",
   "pygments_lexer": "ipython3",
   "version": "3.10.8"
  },
  "orig_nbformat": 4,
  "vscode": {
   "interpreter": {
    "hash": "ee0efadd74fe6f6eadb79affcde3681dbe393c6369e8c561aa7df3b7abce0814"
   }
  }
 },
 "nbformat": 4,
 "nbformat_minor": 2
}
