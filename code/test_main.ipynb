{
 "cells": [
  {
   "cell_type": "code",
   "execution_count": 18,
   "metadata": {},
   "outputs": [],
   "source": [
    "from classifier_lewidi import *\n",
    "from params_lewidi import *\n",
    "from DataManager import *\n",
    "\n",
    "import os\n",
    "import argparse\n",
    "from datetime import datetime\n",
    "import pytz\n",
    "import re\n"
   ]
  },
  {
   "cell_type": "code",
   "execution_count": 19,
   "metadata": {},
   "outputs": [],
   "source": [
    "\n",
    "\n",
    "filepath1 = '../data/ConvAbuse_dataset/'\n",
    "filepath2 = '../data/ArMIS_dataset/'\n",
    "filepath3 = '../data/HS-Brexit_dataset/'\n",
    "filepath4 = '../data/MD-Agreement_dataset/'\n",
    "\n",
    "\n"
   ]
  },
  {
   "cell_type": "code",
   "execution_count": 20,
   "metadata": {},
   "outputs": [
    {
     "name": "stdout",
     "output_type": "stream",
     "text": [
      "I'm in with the conv_train dataset\n"
     ]
    },
    {
     "ename": "KeyboardInterrupt",
     "evalue": "",
     "output_type": "error",
     "traceback": [
      "\u001b[1;31m---------------------------------------------------------------------------\u001b[0m",
      "\u001b[1;31mKeyboardInterrupt\u001b[0m                         Traceback (most recent call last)",
      "Cell \u001b[1;32mIn [20], line 1\u001b[0m\n\u001b[1;32m----> 1\u001b[0m data \u001b[39m=\u001b[39m DataManager(filepath1, filepath2, filepath3, filepath4)\n",
      "File \u001b[1;32mc:\\Users\\nv2006\\Desktop\\PhD\\Year 2\\lewidi_2023\\code\\DataManager.py:49\u001b[0m, in \u001b[0;36mDataManager.__init__\u001b[1;34m(self, filepathConv, filepathArMis, filepathBrex, filepathMD)\u001b[0m\n\u001b[0;32m     45\u001b[0m     flag \u001b[39m=\u001b[39m \u001b[39m0\u001b[39m\n\u001b[0;32m     47\u001b[0m \u001b[39mif\u001b[39;00m (flag \u001b[39m==\u001b[39m \u001b[39m1\u001b[39m):\n\u001b[0;32m     48\u001b[0m     \u001b[39mself\u001b[39m\u001b[39m.\u001b[39mdataset_groups[key] \u001b[39m=\u001b[39m \u001b[39mself\u001b[39m\u001b[39m.\u001b[39mdataset_groups[key]\u001b[39m.\u001b[39mjoin(pd\u001b[39m.\u001b[39mDataFrame(\n\u001b[1;32m---> 49\u001b[0m                     \u001b[39mself\u001b[39m\u001b[39m.\u001b[39mannotation_annotator_split(\u001b[39mself\u001b[39m\u001b[39m.\u001b[39mdataset_groups[key], flag), \n\u001b[0;32m     50\u001b[0m                     index\u001b[39m=\u001b[39m\u001b[39mself\u001b[39m\u001b[39m.\u001b[39mdataset_groups[key]\u001b[39m.\u001b[39mindex\n\u001b[0;32m     51\u001b[0m                     ))\n",
      "File \u001b[1;32mc:\\Users\\nv2006\\Desktop\\PhD\\Year 2\\lewidi_2023\\code\\DataManager.py:137\u001b[0m, in \u001b[0;36mDataManager.annotation_annotator_split\u001b[1;34m(self, panda, flag)\u001b[0m\n\u001b[0;32m    135\u001b[0m Ann_index\u001b[39m=\u001b[39m\u001b[39m0\u001b[39m;\n\u001b[0;32m    136\u001b[0m \u001b[39mfor\u001b[39;00m person \u001b[39min\u001b[39;00m annotators:\n\u001b[1;32m--> 137\u001b[0m     \u001b[39mif\u001b[39;00m person \u001b[39min\u001b[39;00m panda[\u001b[39m\"\u001b[39;49m\u001b[39mannotators\u001b[39;49m\u001b[39m\"\u001b[39;49m]\u001b[39m.\u001b[39;49mstr\u001b[39m.\u001b[39;49mfindall(\u001b[39m\"\u001b[39;49m\u001b[39m\\\u001b[39;49m\u001b[39mw+\u001b[39;49m\u001b[39m\"\u001b[39;49m)[ind]:\n\u001b[0;32m    138\u001b[0m         Ann_dict[person]\u001b[39m.\u001b[39mappend(annotations[Ann_index]) \n\u001b[0;32m    139\u001b[0m         Ann_index\u001b[39m=\u001b[39m\u001b[39m+\u001b[39m\u001b[39m1\u001b[39m\n",
      "File \u001b[1;32mc:\\Users\\nv2006\\Desktop\\Project_01\\.venv\\lib\\site-packages\\pandas\\core\\strings\\accessor.py:130\u001b[0m, in \u001b[0;36mforbid_nonstring_types.<locals>._forbid_nonstring_types.<locals>.wrapper\u001b[1;34m(self, *args, **kwargs)\u001b[0m\n\u001b[0;32m    125\u001b[0m     msg \u001b[39m=\u001b[39m (\n\u001b[0;32m    126\u001b[0m         \u001b[39mf\u001b[39m\u001b[39m\"\u001b[39m\u001b[39mCannot use .str.\u001b[39m\u001b[39m{\u001b[39;00mfunc_name\u001b[39m}\u001b[39;00m\u001b[39m with values of \u001b[39m\u001b[39m\"\u001b[39m\n\u001b[0;32m    127\u001b[0m         \u001b[39mf\u001b[39m\u001b[39m\"\u001b[39m\u001b[39minferred dtype \u001b[39m\u001b[39m'\u001b[39m\u001b[39m{\u001b[39;00m\u001b[39mself\u001b[39m\u001b[39m.\u001b[39m_inferred_dtype\u001b[39m}\u001b[39;00m\u001b[39m'\u001b[39m\u001b[39m.\u001b[39m\u001b[39m\"\u001b[39m\n\u001b[0;32m    128\u001b[0m     )\n\u001b[0;32m    129\u001b[0m     \u001b[39mraise\u001b[39;00m \u001b[39mTypeError\u001b[39;00m(msg)\n\u001b[1;32m--> 130\u001b[0m \u001b[39mreturn\u001b[39;00m func(\u001b[39mself\u001b[39m, \u001b[39m*\u001b[39margs, \u001b[39m*\u001b[39m\u001b[39m*\u001b[39mkwargs)\n",
      "File \u001b[1;32mc:\\Users\\nv2006\\Desktop\\Project_01\\.venv\\lib\\site-packages\\pandas\\core\\strings\\accessor.py:2520\u001b[0m, in \u001b[0;36mStringMethods.findall\u001b[1;34m(self, pat, flags)\u001b[0m\n\u001b[0;32m   2430\u001b[0m \u001b[39m@forbid_nonstring_types\u001b[39m([\u001b[39m\"\u001b[39m\u001b[39mbytes\u001b[39m\u001b[39m\"\u001b[39m])\n\u001b[0;32m   2431\u001b[0m \u001b[39mdef\u001b[39;00m \u001b[39mfindall\u001b[39m(\u001b[39mself\u001b[39m, pat, flags\u001b[39m=\u001b[39m\u001b[39m0\u001b[39m):\n\u001b[0;32m   2432\u001b[0m     \u001b[39m\"\"\"\u001b[39;00m\n\u001b[0;32m   2433\u001b[0m \u001b[39m    Find all occurrences of pattern or regular expression in the Series/Index.\u001b[39;00m\n\u001b[0;32m   2434\u001b[0m \n\u001b[1;32m   (...)\u001b[0m\n\u001b[0;32m   2518\u001b[0m \u001b[39m    dtype: object\u001b[39;00m\n\u001b[0;32m   2519\u001b[0m \u001b[39m    \"\"\"\u001b[39;00m\n\u001b[1;32m-> 2520\u001b[0m     result \u001b[39m=\u001b[39m \u001b[39mself\u001b[39;49m\u001b[39m.\u001b[39;49m_data\u001b[39m.\u001b[39;49marray\u001b[39m.\u001b[39;49m_str_findall(pat, flags)\n\u001b[0;32m   2521\u001b[0m     \u001b[39mreturn\u001b[39;00m \u001b[39mself\u001b[39m\u001b[39m.\u001b[39m_wrap_result(result, returns_string\u001b[39m=\u001b[39m\u001b[39mFalse\u001b[39;00m)\n",
      "File \u001b[1;32mc:\\Users\\nv2006\\Desktop\\Project_01\\.venv\\lib\\site-packages\\pandas\\core\\strings\\object_array.py:247\u001b[0m, in \u001b[0;36mObjectStringArrayMixin._str_findall\u001b[1;34m(self, pat, flags)\u001b[0m\n\u001b[0;32m    245\u001b[0m \u001b[39mdef\u001b[39;00m \u001b[39m_str_findall\u001b[39m(\u001b[39mself\u001b[39m, pat, flags\u001b[39m=\u001b[39m\u001b[39m0\u001b[39m):\n\u001b[0;32m    246\u001b[0m     regex \u001b[39m=\u001b[39m re\u001b[39m.\u001b[39mcompile(pat, flags\u001b[39m=\u001b[39mflags)\n\u001b[1;32m--> 247\u001b[0m     \u001b[39mreturn\u001b[39;00m \u001b[39mself\u001b[39;49m\u001b[39m.\u001b[39;49m_str_map(regex\u001b[39m.\u001b[39;49mfindall, dtype\u001b[39m=\u001b[39;49m\u001b[39m\"\u001b[39;49m\u001b[39mobject\u001b[39;49m\u001b[39m\"\u001b[39;49m)\n",
      "File \u001b[1;32mc:\\Users\\nv2006\\Desktop\\Project_01\\.venv\\lib\\site-packages\\pandas\\core\\strings\\object_array.py:71\u001b[0m, in \u001b[0;36mObjectStringArrayMixin._str_map\u001b[1;34m(self, f, na_value, dtype, convert)\u001b[0m\n\u001b[0;32m     69\u001b[0m map_convert \u001b[39m=\u001b[39m convert \u001b[39mand\u001b[39;00m \u001b[39mnot\u001b[39;00m np\u001b[39m.\u001b[39mall(mask)\n\u001b[0;32m     70\u001b[0m \u001b[39mtry\u001b[39;00m:\n\u001b[1;32m---> 71\u001b[0m     result \u001b[39m=\u001b[39m lib\u001b[39m.\u001b[39;49mmap_infer_mask(arr, f, mask\u001b[39m.\u001b[39;49mview(np\u001b[39m.\u001b[39;49muint8), map_convert)\n\u001b[0;32m     72\u001b[0m \u001b[39mexcept\u001b[39;00m (\u001b[39mTypeError\u001b[39;00m, \u001b[39mAttributeError\u001b[39;00m) \u001b[39mas\u001b[39;00m err:\n\u001b[0;32m     73\u001b[0m     \u001b[39m# Reraise the exception if callable `f` got wrong number of args.\u001b[39;00m\n\u001b[0;32m     74\u001b[0m     \u001b[39m# The user may want to be warned by this, instead of getting NaN\u001b[39;00m\n\u001b[0;32m     75\u001b[0m     p_err \u001b[39m=\u001b[39m (\n\u001b[0;32m     76\u001b[0m         \u001b[39mr\u001b[39m\u001b[39m\"\u001b[39m\u001b[39m((takes)|(missing)) (?(2)from \u001b[39m\u001b[39m\\\u001b[39m\u001b[39md+ to )?\u001b[39m\u001b[39m\\\u001b[39m\u001b[39md+ \u001b[39m\u001b[39m\"\u001b[39m\n\u001b[0;32m     77\u001b[0m         \u001b[39mr\u001b[39m\u001b[39m\"\u001b[39m\u001b[39m(?(3)required )positional arguments?\u001b[39m\u001b[39m\"\u001b[39m\n\u001b[0;32m     78\u001b[0m     )\n",
      "File \u001b[1;32mc:\\Users\\nv2006\\Desktop\\Project_01\\.venv\\lib\\site-packages\\pandas\\_libs\\lib.pyx:2880\u001b[0m, in \u001b[0;36mpandas._libs.lib.map_infer_mask\u001b[1;34m()\u001b[0m\n",
      "File \u001b[1;32mc:\\Users\\nv2006\\Desktop\\Project_01\\.venv\\lib\\site-packages\\pandas\\_libs\\lib.pyx:2510\u001b[0m, in \u001b[0;36mpandas._libs.lib.maybe_convert_objects\u001b[1;34m()\u001b[0m\n",
      "File \u001b[1;32mc:\\Users\\nv2006\\Desktop\\Project_01\\.venv\\lib\\site-packages\\numpy\\core\\numeric.py:289\u001b[0m, in \u001b[0;36mfull\u001b[1;34m(shape, fill_value, dtype, order, like)\u001b[0m\n\u001b[0;32m    285\u001b[0m \u001b[39mdef\u001b[39;00m \u001b[39m_full_dispatcher\u001b[39m(shape, fill_value, dtype\u001b[39m=\u001b[39m\u001b[39mNone\u001b[39;00m, order\u001b[39m=\u001b[39m\u001b[39mNone\u001b[39;00m, \u001b[39m*\u001b[39m, like\u001b[39m=\u001b[39m\u001b[39mNone\u001b[39;00m):\n\u001b[0;32m    286\u001b[0m     \u001b[39mreturn\u001b[39;00m(like,)\n\u001b[1;32m--> 289\u001b[0m \u001b[39m@set_array_function_like_doc\u001b[39m\n\u001b[0;32m    290\u001b[0m \u001b[39m@set_module\u001b[39m(\u001b[39m'\u001b[39m\u001b[39mnumpy\u001b[39m\u001b[39m'\u001b[39m)\n\u001b[0;32m    291\u001b[0m \u001b[39mdef\u001b[39;00m \u001b[39mfull\u001b[39m(shape, fill_value, dtype\u001b[39m=\u001b[39m\u001b[39mNone\u001b[39;00m, order\u001b[39m=\u001b[39m\u001b[39m'\u001b[39m\u001b[39mC\u001b[39m\u001b[39m'\u001b[39m, \u001b[39m*\u001b[39m, like\u001b[39m=\u001b[39m\u001b[39mNone\u001b[39;00m):\n\u001b[0;32m    292\u001b[0m     \u001b[39m\"\"\"\u001b[39;00m\n\u001b[0;32m    293\u001b[0m \u001b[39m    Return a new array of given shape and type, filled with `fill_value`.\u001b[39;00m\n\u001b[0;32m    294\u001b[0m \n\u001b[1;32m   (...)\u001b[0m\n\u001b[0;32m    335\u001b[0m \n\u001b[0;32m    336\u001b[0m \u001b[39m    \"\"\"\u001b[39;00m\n\u001b[0;32m    337\u001b[0m     \u001b[39mif\u001b[39;00m like \u001b[39mis\u001b[39;00m \u001b[39mnot\u001b[39;00m \u001b[39mNone\u001b[39;00m:\n",
      "\u001b[1;31mKeyboardInterrupt\u001b[0m: "
     ]
    }
   ],
   "source": [
    "\n",
    "data = DataManager(filepath1, filepath2, filepath3, filepath4)"
   ]
  },
  {
   "cell_type": "code",
   "execution_count": 7,
   "metadata": {},
   "outputs": [],
   "source": [
    "def_params = params_lewidi()\n",
    "\n",
    "def_params.task = \"multi\""
   ]
  },
  {
   "cell_type": "code",
   "execution_count": 13,
   "metadata": {},
   "outputs": [
    {
     "name": "stdout",
     "output_type": "stream",
     "text": [
      "431\n",
      "Data shape after majority voting (2398, 16)\n",
      "[('batch_size', 4), ('learning_rate', 1e-07), ('max_len', 128), ('num_epochs', 3), ('random_state', 9999), ('num_folds', 5), ('task', 'multi'), ('batch_weight', None), ('sort_by', None), ('stratified', True), ('predict', 'label'), ('mc_passes', 10)]\n"
     ]
    }
   ],
   "source": [
    "\n",
    "key = \"conv_train\"\n",
    "\n",
    "annotators = list(sorted(set(itertools.chain.from_iterable(data.dataset_groups[key]['annotators'].str.findall(\"\\w+\")))))\n",
    "    \n",
    "model = ToxicityClassifier(data.dataset_groups[key], annotators=annotators, params=def_params)\n",
    "\n"
   ]
  },
  {
   "cell_type": "code",
   "execution_count": 17,
   "metadata": {},
   "outputs": [
    {
     "name": "stdout",
     "output_type": "stream",
     "text": [
      "Fold # 1\n"
     ]
    },
    {
     "name": "stderr",
     "output_type": "stream",
     "text": [
      "Some weights of the model checkpoint at bert-base-uncased were not used when initializing BertModel: ['cls.predictions.transform.dense.weight', 'cls.seq_relationship.bias', 'cls.predictions.transform.LayerNorm.weight', 'cls.seq_relationship.weight', 'cls.predictions.transform.LayerNorm.bias', 'cls.predictions.transform.dense.bias', 'cls.predictions.decoder.weight', 'cls.predictions.bias']\n",
      "- This IS expected if you are initializing BertModel from the checkpoint of a model trained on another task or with another architecture (e.g. initializing a BertForSequenceClassification model from a BertForPreTraining model).\n",
      "- This IS NOT expected if you are initializing BertModel from the checkpoint of a model that you expect to be exactly identical (initializing a BertForSequenceClassification model from a BertForSequenceClassification model).\n"
     ]
    },
    {
     "ename": "KeyError",
     "evalue": "'Ann1'",
     "output_type": "error",
     "traceback": [
      "\u001b[1;31m---------------------------------------------------------------------------\u001b[0m",
      "\u001b[1;31mKeyError\u001b[0m                                  Traceback (most recent call last)",
      "Cell \u001b[1;32mIn [17], line 1\u001b[0m\n\u001b[1;32m----> 1\u001b[0m score, results \u001b[39m=\u001b[39m model\u001b[39m.\u001b[39mCV()\n\u001b[0;32m      3\u001b[0m score[\u001b[39m\"\u001b[39m\u001b[39mparams\u001b[39m\u001b[39m\"\u001b[39m] \u001b[39m=\u001b[39m \u001b[39m\"\u001b[39m\u001b[39m, \u001b[39m\u001b[39m\"\u001b[39m\u001b[39m.\u001b[39mjoin(key \u001b[39m+\u001b[39m \u001b[39m\"\u001b[39m\u001b[39m: \u001b[39m\u001b[39m\"\u001b[39m \u001b[39m+\u001b[39m \u001b[39mstr\u001b[39m(val) \u001b[39mfor\u001b[39;00m key, val \u001b[39min\u001b[39;00m def_params\u001b[39m.\u001b[39m\u001b[39m__dict__\u001b[39m\u001b[39m.\u001b[39mitems())\n\u001b[0;32m      4\u001b[0m score[\u001b[39m\"\u001b[39m\u001b[39mtask\u001b[39m\u001b[39m\"\u001b[39m] \u001b[39m=\u001b[39m model\u001b[39m.\u001b[39mparams\u001b[39m.\u001b[39mtask\n",
      "File \u001b[1;32mc:\\Users\\nv2006\\Desktop\\PhD\\Year 2\\lewidi_2023\\code\\classifier_lewidi.py:123\u001b[0m, in \u001b[0;36mToxicityClassifier.CV\u001b[1;34m(self)\u001b[0m\n\u001b[0;32m    121\u001b[0m     \u001b[39mreturn\u001b[39;00m scores, ensemble_results\n\u001b[0;32m    122\u001b[0m \u001b[39melse\u001b[39;00m:\n\u001b[1;32m--> 123\u001b[0m     \u001b[39mreturn\u001b[39;00m \u001b[39mself\u001b[39;49m\u001b[39m.\u001b[39;49m_CV(\u001b[39mself\u001b[39;49m\u001b[39m.\u001b[39;49mdata)\n",
      "File \u001b[1;32mc:\\Users\\nv2006\\Desktop\\PhD\\Year 2\\lewidi_2023\\code\\classifier_lewidi.py:154\u001b[0m, in \u001b[0;36mToxicityClassifier._CV\u001b[1;34m(self, data)\u001b[0m\n\u001b[0;32m    151\u001b[0m train_batches \u001b[39m=\u001b[39m \u001b[39mself\u001b[39m\u001b[39m.\u001b[39mget_batches(train)\n\u001b[0;32m    152\u001b[0m test_batches \u001b[39m=\u001b[39m \u001b[39mself\u001b[39m\u001b[39m.\u001b[39mget_batches(test)\n\u001b[1;32m--> 154\u001b[0m \u001b[39mself\u001b[39;49m\u001b[39m.\u001b[39;49mtrain_model(train_batches)\n\u001b[0;32m    155\u001b[0m \u001b[39mif\u001b[39;00m \u001b[39mself\u001b[39m\u001b[39m.\u001b[39mparams\u001b[39m.\u001b[39mpredict \u001b[39m==\u001b[39m \u001b[39m\"\u001b[39m\u001b[39mlabel\u001b[39m\u001b[39m\"\u001b[39m:\n\u001b[0;32m    156\u001b[0m     \u001b[39m# testing on the validation set\u001b[39;00m\n\u001b[0;32m    157\u001b[0m     fold_result \u001b[39m=\u001b[39m \u001b[39mself\u001b[39m\u001b[39m.\u001b[39mpredict(test_batches)\n",
      "File \u001b[1;32mc:\\Users\\nv2006\\Desktop\\PhD\\Year 2\\lewidi_2023\\code\\classifier_lewidi.py:233\u001b[0m, in \u001b[0;36mToxicityClassifier.train_model\u001b[1;34m(self, batches)\u001b[0m\n\u001b[0;32m    231\u001b[0m weighted_sum \u001b[39m=\u001b[39m \u001b[39m0\u001b[39m\n\u001b[0;32m    232\u001b[0m \u001b[39mfor\u001b[39;00m task_label \u001b[39min\u001b[39;00m \u001b[39mself\u001b[39m\u001b[39m.\u001b[39mtask_labels:\n\u001b[1;32m--> 233\u001b[0m     \u001b[39mprint\u001b[39m(\u001b[39m\"\u001b[39m\u001b[39mhello\u001b[39m\u001b[39m\"\u001b[39m, task_label, logits[task_label], batch[\u001b[39m\"\u001b[39m\u001b[39mmasks\u001b[39m\u001b[39m\"\u001b[39m], batch[\u001b[39m\"\u001b[39m\u001b[39mmasks\u001b[39m\u001b[39m\"\u001b[39m][task_label])\n\u001b[0;32m    234\u001b[0m     masked_logits \u001b[39m=\u001b[39m logits[task_label][batch[\u001b[39m\"\u001b[39m\u001b[39mmasks\u001b[39m\u001b[39m\"\u001b[39m][task_label]]\n\u001b[0;32m    235\u001b[0m     masked_labels \u001b[39m=\u001b[39m [batch[\u001b[39m\"\u001b[39m\u001b[39mlabels\u001b[39m\u001b[39m\"\u001b[39m][task_label][x] \u001b[39mfor\u001b[39;00m x \u001b[39min\u001b[39;00m batch[\u001b[39m\"\u001b[39m\u001b[39mmasks\u001b[39m\u001b[39m\"\u001b[39m][task_label]]\n",
      "\u001b[1;31mKeyError\u001b[0m: 'Ann1'"
     ]
    }
   ],
   "source": [
    "score, results = model.CV()\n",
    "\n",
    "score[\"params\"] = \", \".join(key + \": \" + str(val) for key, val in def_params.__dict__.items())\n",
    "score[\"task\"] = model.params.task\n"
   ]
  },
  {
   "cell_type": "code",
   "execution_count": null,
   "metadata": {},
   "outputs": [],
   "source": [
    "\n",
    "pacific = pytz.timezone('US/Pacific')\n",
    "sa_time = datetime.now(pacific)\n",
    "name_time = sa_time.strftime('%m%d%y-%H:%M')\n",
    "score[\"time\"] = name_time\n",
    "print(score)\n",
    "\n",
    "score_dir = os.path.join(def_params.source_dir, \"results\", \"GHC\", \"classification.csv\")\n",
    "result_dir = os.path.join(def_params.source_dir, \"results\", \"GHC\", name_time + \"_\" + def_params.task + \".csv\")\n",
    "if os.path.exists(score_dir):\n",
    "    pd.DataFrame.from_records([score]).to_csv(score_dir, header=False,  index=False, mode=\"a\")\n",
    "else:\n",
    "    pd.DataFrame.from_records([score]).to_csv(score_dir, index=False)\n",
    "\n",
    "    pd.DataFrame.from_dict(results).to_csv(result_dir, index=False)\n"
   ]
  }
 ],
 "metadata": {
  "kernelspec": {
   "display_name": ".venv",
   "language": "python",
   "name": "python3"
  },
  "language_info": {
   "codemirror_mode": {
    "name": "ipython",
    "version": 3
   },
   "file_extension": ".py",
   "mimetype": "text/x-python",
   "name": "python",
   "nbconvert_exporter": "python",
   "pygments_lexer": "ipython3",
   "version": "3.9.7"
  },
  "orig_nbformat": 4,
  "vscode": {
   "interpreter": {
    "hash": "acc977ce60eb4491c2b99c6f868bff8f9886b4aeae336d5245351264479597ea"
   }
  }
 },
 "nbformat": 4,
 "nbformat_minor": 2
}
