{
 "cells": [
  {
   "cell_type": "code",
   "execution_count": 17,
   "metadata": {},
   "outputs": [],
   "source": [
    "import os\n",
    "import argparse\n",
    "import importlib\n",
    "from datetime import datetime\n",
    "import pytz\n",
    "import re\n",
    "import numpy as np\n",
    "\n",
    "from classifier_lewidi import *\n",
    "from params_lewidi import *\n",
    "from DataManager import *\n"
   ]
  },
  {
   "cell_type": "code",
   "execution_count": 2,
   "metadata": {},
   "outputs": [],
   "source": [
    "filepath1 = '../data/ConvAbuse_dataset/'\n",
    "filepath2 = '../data/ArMIS_dataset/'\n",
    "filepath3 = '../data/HS-Brexit_dataset/'\n",
    "filepath4 = '../data/MD-Agreement_dataset/'"
   ]
  },
  {
   "cell_type": "code",
   "execution_count": 3,
   "metadata": {},
   "outputs": [
    {
     "name": "stdout",
     "output_type": "stream",
     "text": [
      "I'm in with the conv_train dataset\n",
      "I'm in with the conv_dev dataset\n",
      "I'm in with the conv_test dataset\n",
      "I'm in with the ar_train dataset\n",
      "I'm in with the ar_dev dataset\n",
      "I'm in with the ar_test dataset\n",
      "I'm in with the br_train dataset\n",
      "I'm in with the br_dev dataset\n",
      "I'm in with the br_test dataset\n",
      "I'm in with the md_train dataset\n",
      "I'm in with the md_dev dataset\n",
      "I'm in with the md_test dataset\n"
     ]
    }
   ],
   "source": [
    "%reload_ext autoreload\n",
    "%autoreload 2\n",
    "\n",
    "\n",
    "data = DataManager(filepath1, filepath2, filepath3, filepath4)"
   ]
  },
  {
   "cell_type": "markdown",
   "metadata": {},
   "source": []
  },
  {
   "cell_type": "code",
   "execution_count": 4,
   "metadata": {},
   "outputs": [],
   "source": [
    "def_params = params_lewidi()\n",
    "\n",
    "def_params.task = \"multi_task\""
   ]
  },
  {
   "cell_type": "code",
   "execution_count": 5,
   "metadata": {},
   "outputs": [
    {
     "name": "stdout",
     "output_type": "stream",
     "text": [
      "Train data shape after majority voting (2398, 16)\n",
      "Train data shape after majority voting (812, 16)\n",
      "[('batch_size', 64), ('learning_rate', 1e-07), ('max_len', 128), ('num_epochs', 1), ('random_state', 9999), ('num_folds', 2), ('task', 'multi_task'), ('batch_weight', None), ('sort_by', None), ('stratified', True), ('predict', 'label'), ('mc_passes', 10)]\n"
     ]
    }
   ],
   "source": [
    "\n",
    "%reload_ext autoreload\n",
    "%autoreload 2\n",
    "\n",
    "key_train = \"conv_train\"\n",
    "key_dev = \"conv_dev\"\n",
    "key_test =  \"conv_test\"\n",
    "\n",
    "annotators = list(sorted(set(itertools.chain.from_iterable(data.dataset_groups[key_train]['annotators'].str.findall(\"\\w+\")))))\n",
    "    \n",
    "model = AbuseClassifier(data.dataset_groups[key_train], data.dataset_groups[key_dev], data.dataset_groups[key_test] , annotators=annotators, params=def_params)\n",
    "\n"
   ]
  },
  {
   "cell_type": "code",
   "execution_count": 6,
   "metadata": {},
   "outputs": [
    {
     "name": "stderr",
     "output_type": "stream",
     "text": [
      "Some weights of the model checkpoint at bert-base-uncased were not used when initializing BertModel: ['cls.seq_relationship.weight', 'cls.predictions.transform.dense.weight', 'cls.predictions.bias', 'cls.predictions.transform.LayerNorm.bias', 'cls.seq_relationship.bias', 'cls.predictions.transform.LayerNorm.weight', 'cls.predictions.transform.dense.bias', 'cls.predictions.decoder.weight']\n",
      "- This IS expected if you are initializing BertModel from the checkpoint of a model trained on another task or with another architecture (e.g. initializing a BertForSequenceClassification model from a BertForPreTraining model).\n",
      "- This IS NOT expected if you are initializing BertModel from the checkpoint of a model that you expect to be exactly identical (initializing a BertForSequenceClassification model from a BertForSequenceClassification model).\n"
     ]
    },
    {
     "data": {
      "application/vnd.jupyter.widget-view+json": {
       "model_id": "a14a1204e5154962ad35b83443cb1d9c",
       "version_major": 2,
       "version_minor": 0
      },
      "text/plain": [
       "Output()"
      ]
     },
     "metadata": {},
     "output_type": "display_data"
    },
    {
     "data": {
      "text/html": [
       "<pre style=\"white-space:pre;overflow-x:auto;line-height:normal;font-family:Menlo,'DejaVu Sans Mono',consolas,'Courier New',monospace\">Starting with the training now<span style=\"color: #808000; text-decoration-color: #808000\">...</span>\n",
       "</pre>\n"
      ],
      "text/plain": [
       "Starting with the training now\u001b[33m...\u001b[0m\n"
      ]
     },
     "metadata": {},
     "output_type": "display_data"
    },
    {
     "data": {
      "text/html": [
       "<pre style=\"white-space:pre;overflow-x:auto;line-height:normal;font-family:Menlo,'DejaVu Sans Mono',consolas,'Courier New',monospace\">Epoch 0 - Loss 213.001\n",
       "</pre>\n"
      ],
      "text/plain": [
       "Epoch 0 - Loss 213.001\n"
      ]
     },
     "metadata": {},
     "output_type": "display_data"
    },
    {
     "data": {
      "text/html": [
       "<pre style=\"white-space:pre;overflow-x:auto;line-height:normal;font-family:Menlo,'DejaVu Sans Mono',consolas,'Courier New',monospace\">Validation\n",
       "</pre>\n"
      ],
      "text/plain": [
       "Validation\n"
      ]
     },
     "metadata": {},
     "output_type": "display_data"
    },
    {
     "data": {
      "text/html": [
       "<pre style=\"white-space:pre;overflow-x:auto;line-height:normal;font-family:Menlo,'DejaVu Sans Mono',consolas,'Courier New',monospace\"></pre>\n"
      ],
      "text/plain": []
     },
     "metadata": {},
     "output_type": "display_data"
    },
    {
     "data": {
      "text/html": [
       "<pre style=\"white-space:pre;overflow-x:auto;line-height:normal;font-family:Menlo,'DejaVu Sans Mono',consolas,'Courier New',monospace\">\n",
       "</pre>\n"
      ],
      "text/plain": [
       "\n"
      ]
     },
     "metadata": {},
     "output_type": "display_data"
    },
    {
     "name": "stdout",
     "output_type": "stream",
     "text": [
      "Test:\n"
     ]
    }
   ],
   "source": [
    "%reload_ext autoreload\n",
    "%autoreload 2\n",
    "\n",
    "\n",
    "# score, results = model.CV()\n",
    "results = model.CV()\n",
    "\n"
   ]
  },
  {
   "cell_type": "code",
   "execution_count": 22,
   "metadata": {},
   "outputs": [],
   "source": [
    "comp_metrics = results\n",
    "comp_metrics[\"soft_label_0\"] = np.nan\n",
    "comp_metrics[\"soft_label_1\"] = np.nan\n",
    "comp_metrics[\"hard_label\"] = np.nan\n",
    "\n",
    "for ind, row in results.iterrows():\n",
    "    \n",
    "    count_zero, count_one, totalcount = 0,0,0\n",
    "    for element in row:\n",
    "        if np.isnan(element):\n",
    "            continue\n",
    "        elif element == 0:\n",
    "            count_zero+= 1 \n",
    "            totalcount +=1\n",
    "        else:\n",
    "            count_one +=1\n",
    "            totalcount +=1   \n",
    "                  \n",
    "    soft_zero, soft_one = count_zero / float(totalcount) , count_one / float(totalcount)\n",
    "\n",
    "    comp_metrics[\"soft_label_0\"][ind] = soft_zero\n",
    "    comp_metrics[\"soft_label_1\"][ind] = soft_one\n",
    "\n",
    "    if soft_zero > soft_one:\n",
    "        comp_metrics[\"hard_label\"][ind] = 0\n",
    "    elif soft_zero < soft_one:\n",
    "        comp_metrics[\"hard_label\"][ind] = 1\n",
    "    else:\n",
    "        comp_metrics[\"hard_label\"][ind] = random.randrange(0, 2)\n",
    "        \n",
    "comp_metrics = comp_metrics.loc[:,[\"hard_label\",\"soft_label_0\", \"soft_label_1\"]]\n",
    "comp_metrics[\"hard_label\"]= pd.to_numeric(comp_metrics[\"hard_label\"], downcast=\"integer\")"
   ]
  },
  {
   "cell_type": "code",
   "execution_count": 24,
   "metadata": {},
   "outputs": [],
   "source": [
    "results_filepath = \"../data/results\"\n",
    "if key_test == \"conv_test\":\n",
    "    # \"MD-Agreement_results.tsv\", \"ArMIS_results.tsv\", \"ConvAbuse_results.tsv\", \"HS-Brexit_results.tsv\"\n",
    "    result_dir = os.path.join(results_filepath + \"ConvAbuse_results.tsv\")\n",
    "    os.makedirs(\"../data/results\", exist_ok=True)  \n",
    "    comp_metrics.to_csv(\"../data/results/ConvAbuse_results.tsv\", sep=\"\\t\", header = False,index=False)"
   ]
  },
  {
   "cell_type": "code",
   "execution_count": null,
   "metadata": {},
   "outputs": [
    {
     "name": "stdout",
     "output_type": "stream",
     "text": [
      "done\n"
     ]
    }
   ],
   "source": [
    "print(\"done\")\n",
    "x=0\n",
    "# pacific = pytz.timezone('US/Pacific')\n",
    "# sa_time = datetime.now(pacific)\n",
    "# name_time = sa_time.strftime('%m%d%y-%H:%M')\n",
    "# score[\"time\"] = name_time\n",
    "# print(score)\n",
    "\n",
    "# score_dir = os.path.join(def_params.source_dir, \"results\", \"GHC\", \"classification.csv\")\n",
    "# result_dir = os.path.join(def_params.source_dir, \"results\", \"GHC\", name_time + \"_\" + def_params.task + \".csv\")\n",
    "# if os.path.exists(score_dir):\n",
    "#     pd.DataFrame.from_records([score]).to_csv(score_dir, header=False,  index=False, mode=\"a\")\n",
    "# else:\n",
    "#     pd.DataFrame.from_records([score]).to_csv(score_dir, index=False)\n",
    "\n",
    "#     pd.DataFrame.from_dict(results).to_csv(result_dir, index=False)\n"
   ]
  }
 ],
 "metadata": {
  "kernelspec": {
   "display_name": "Python 3.10.8 ('lewidi')",
   "language": "python",
   "name": "python3"
  },
  "language_info": {
   "codemirror_mode": {
    "name": "ipython",
    "version": 3
   },
   "file_extension": ".py",
   "mimetype": "text/x-python",
   "name": "python",
   "nbconvert_exporter": "python",
   "pygments_lexer": "ipython3",
   "version": "3.10.8 (main, Nov 24 2022, 14:13:03) [GCC 11.2.0]"
  },
  "orig_nbformat": 4,
  "vscode": {
   "interpreter": {
    "hash": "ee0efadd74fe6f6eadb79affcde3681dbe393c6369e8c561aa7df3b7abce0814"
   }
  }
 },
 "nbformat": 4,
 "nbformat_minor": 2
}
